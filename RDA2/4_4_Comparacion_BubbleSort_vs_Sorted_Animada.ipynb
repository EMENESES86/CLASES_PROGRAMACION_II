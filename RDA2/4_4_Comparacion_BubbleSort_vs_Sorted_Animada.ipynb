{
 "cells": [
  {
   "cell_type": "markdown",
   "id": "f6b34107",
   "metadata": {},
   "source": [
    "# 🧪 Animación Comparativa Mejorada: `Bubble Sort` vs `sorted()` (simulada)\n",
    "\n",
    "Ahora haremos una **comparación visual paso a paso** entre:\n",
    "\n",
    "- `Bubble Sort` (ordenamiento real)\n",
    "- `sorted()` (simulación de cómo se vería si ordenara paso a paso)\n",
    "\n",
    "Esto permite visualizar **cómo se va formando la lista ordenada** en ambos casos, incluso si `sorted()` no muestra su proceso real.\n"
   ]
  },
  {
   "cell_type": "code",
   "execution_count": 1,
   "id": "2816f430",
   "metadata": {},
   "outputs": [],
   "source": [
    "# 📊 Importamos la librería matplotlib para generar gráficos\n",
    "# 'pyplot' es un submódulo de matplotlib que nos permite crear gráficos fácilmente\n",
    "import matplotlib.pyplot as plt\n",
    "\n",
    "# 🎲 Importamos el módulo random para generar listas de números aleatorios\n",
    "# Esto nos ayuda a crear listas de prueba con valores desordenados\n",
    "import random\n",
    "\n",
    "# 🧹 Importamos clear_output desde IPython.display\n",
    "# Esta función permite limpiar la salida de la celda anterior en Jupyter Notebook\n",
    "# Es muy útil para crear animaciones, ya que borra la vista anterior antes de mostrar la nueva\n",
    "from IPython.display import clear_output\n",
    "\n",
    "# ⏱️ Importamos el módulo time para medir intervalos de tiempo o agregar pausas en la animación\n",
    "import time\n"
   ]
  },
  {
   "cell_type": "code",
   "execution_count": 2,
   "id": "717de32e",
   "metadata": {},
   "outputs": [],
   "source": [
    "# 🎞️ Función que anima y compara visualmente el proceso de ordenamiento de:\n",
    "# - Bubble Sort (real, paso a paso)\n",
    "# - sorted() (simulado, para efectos didácticos)\n",
    "def animar_comparacion_sorted_bubble_simulada(lista_original, pausa=0.2):\n",
    "\n",
    "    # Creamos una copia de la lista original para Bubble Sort\n",
    "    lista_bubble = lista_original.copy()\n",
    "\n",
    "    # Calculamos el resultado final de sorted() (lista ordenada) para simularlo paso a paso\n",
    "    lista_sorted_final = sorted(lista_original)\n",
    "\n",
    "    # Inicializamos la lista de pasos del algoritmo Bubble Sort (comenzamos con el estado original)\n",
    "    pasos_bubble = [lista_bubble.copy()]\n",
    "\n",
    "    # Lista de pasos para simular el comportamiento de sorted()\n",
    "    pasos_sorted = []\n",
    "\n",
    "    # 🔄 Generamos los pasos reales de Bubble Sort\n",
    "    n = len(lista_bubble)\n",
    "    for i in range(n):\n",
    "        for j in range(0, n - i - 1):\n",
    "            if lista_bubble[j] > lista_bubble[j + 1]:\n",
    "                # Intercambiamos los elementos si están fuera de orden\n",
    "                lista_bubble[j], lista_bubble[j + 1] = lista_bubble[j + 1], lista_bubble[j]\n",
    "                # Guardamos el estado actual después del intercambio\n",
    "                pasos_bubble.append(lista_bubble.copy())\n",
    "\n",
    "    # 🧪 Simulamos cómo se vería el progreso de sorted() paso a paso\n",
    "    # Aunque sorted() es inmediato, aquí lo representamos como una transformación progresiva\n",
    "    lista_simulada = lista_original.copy()\n",
    "    for i in range(len(lista_sorted_final)):\n",
    "        if lista_simulada[i] != lista_sorted_final[i]:\n",
    "            # Sustituimos el valor por el que estaría en la lista ordenada\n",
    "            lista_simulada[i] = lista_sorted_final[i]\n",
    "        # Guardamos el paso simulado\n",
    "        pasos_sorted.append(lista_simulada.copy())\n",
    "\n",
    "    # Definimos el número total de pasos que tendrá la animación (el mayor entre ambos procesos)\n",
    "    total_pasos = max(len(pasos_bubble), len(pasos_sorted))\n",
    "\n",
    "    # 🖼️ Animación paso a paso\n",
    "    for k in range(total_pasos):\n",
    "        clear_output(wait=True)  # Limpiamos la salida anterior para crear efecto de movimiento\n",
    "\n",
    "        # Creamos una figura con dos gráficos uno al lado del otro\n",
    "        fig, axs = plt.subplots(1, 2, figsize=(12, 4))\n",
    "\n",
    "        # 🎬 Animación de Bubble Sort (proceso real)\n",
    "        if k < len(pasos_bubble):\n",
    "            axs[0].bar(range(len(pasos_bubble[k])), pasos_bubble[k], color='skyblue')\n",
    "            axs[0].set_title(f\"Bubble Sort - Paso {k+1}\")\n",
    "            axs[0].set_ylim(0, max(lista_original) + 5)\n",
    "        else:\n",
    "            # Si se terminaron los pasos, mantenemos la vista final\n",
    "            axs[0].bar(range(len(pasos_bubble[-1])), pasos_bubble[-1], color='skyblue')\n",
    "            axs[0].set_title(\"Bubble Sort - Final\")\n",
    "\n",
    "        # 🎬 Simulación animada de sorted() (transformación progresiva)\n",
    "        if k < len(pasos_sorted):\n",
    "            axs[1].bar(range(len(pasos_sorted[k])), pasos_sorted[k], color='lightgreen')\n",
    "            axs[1].set_title(f\"sorted() - Paso {k+1}\")\n",
    "            axs[1].set_ylim(0, max(lista_original) + 5)\n",
    "        else:\n",
    "            axs[1].bar(range(len(lista_sorted_final)), lista_sorted_final, color='lightgreen')\n",
    "            axs[1].set_title(\"sorted() - Final\")\n",
    "\n",
    "        # Acomoda ambos subgráficos para que no se encimen\n",
    "        plt.tight_layout()\n",
    "\n",
    "        # Pausa entre cada frame para que la animación sea visible\n",
    "        plt.pause(pausa)\n",
    "\n",
    "    # Muestra la última imagen estática al terminar\n",
    "    plt.show()\n"
   ]
  },
  {
   "cell_type": "code",
   "execution_count": 3,
   "id": "3d013cea",
   "metadata": {},
   "outputs": [
    {
     "data": {
      "image/png": "[encoded data removed]",
      "text/plain": [
       "<Figure size 1200x400 with 2 Axes>"
      ]
     },
     "metadata": {},
     "output_type": "display_data"
    }
   ],
   "source": [
    "# 🎲 Generamos una lista aleatoria con 20 números únicos entre 1 y 50\n",
    "# Usamos una lista más grande que en los ejemplos anteriores para que la animación\n",
    "# del ordenamiento sea más notoria, visualmente atractiva y educativa.\n",
    "lista_demo = random.sample(range(1, 50), 20)\n",
    "\n",
    "# 🎞️ Ejecutamos la función de animación comparativa simulada\n",
    "# Esta función mostrará lado a lado:\n",
    "# - A la izquierda: el proceso real paso a paso del algoritmo Bubble Sort.\n",
    "# - A la derecha: una simulación paso a paso de cómo `sorted()` iría construyendo la lista ordenada.\n",
    "animar_comparacion_sorted_bubble_simulada(lista_demo)\n"
   ]
  },
  {
   "cell_type": "markdown",
   "id": "1c498a75",
   "metadata": {},
   "source": [
    "## ✅ Observaciones\n",
    "\n",
    "- La animación de `Bubble Sort` muestra los **intercambios reales** realizados paso a paso.\n",
    "- La animación de `sorted()` es **una simulación didáctica** que muestra cómo se construye la lista final.\n",
    "- Aunque `sorted()` en realidad ordena de forma más eficiente, esta comparación ayuda a entender el proceso visualmente.\n",
    "\n",
    "¿En la práctica? `sorted()` siempre será preferido por rendimiento, pero **Bubble Sort es valioso para aprender**.\n"
   ]
  }
 ],
 "metadata": {
  "kernelspec": {
   "display_name": "base",
   "language": "python",
   "name": "python3"
  },
  "language_info": {
   "codemirror_mode": {
    "name": "ipython",
    "version": 3
   },
   "file_extension": ".py",
   "mimetype": "text/x-python",
   "name": "python",
   "nbconvert_exporter": "python",
   "pygments_lexer": "ipython3",
   "version": "3.11.5"
  }
 },
 "nbformat": 4,
 "nbformat_minor": 5
}
