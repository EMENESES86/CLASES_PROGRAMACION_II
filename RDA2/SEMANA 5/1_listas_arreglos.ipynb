{
 "cells": [
  {
   "cell_type": "markdown",
   "id": "062126e3",
   "metadata": {},
   "source": [
    "📘 Introducción a Listas y Arreglos en Python\n",
    "\n",
    "🔍 ¿Qué son las listas?\n",
    "\n",
    "- Una lista en Python es una estructura de datos que permite almacenar múltiples valores en una sola variable. Es dinámica, lo que significa que puede crecer o reducir su tamaño, y puede contener elementos de distintos tipos de datos (enteros, cadenas, booleanos, etc.)."
   ]
  },
  {
   "cell_type": "markdown",
   "id": "28ecd820",
   "metadata": {},
   "source": [
    "🧱 ¿Cómo se declara una lista?"
   ]
  },
  {
   "cell_type": "code",
   "execution_count": null,
   "id": "015f2094",
   "metadata": {},
   "outputs": [],
   "source": [
    "mi_lista = [10, 20, 30, 40, 50]\n",
    "# También puede estar vacía al principio:\n",
    "mi_lista = []\n"
   ]
  },
  {
   "cell_type": "markdown",
   "id": "d3d3c743",
   "metadata": {},
   "source": [
    "🔧 Operaciones básicas con listas\n",
    "\n",
    "\n",
    "| Operación                       | Ejemplo                  | Resultado                  |\n",
    "| ------------------------------- | ------------------------ | -------------------------- |\n",
    "| Acceso a un elemento            | `mi_lista[0]`            | `10`                       |\n",
    "| Modificación de un elemento     | `mi_lista[1] = 99`       | `[10, 99, 30, 40, 50]`     |\n",
    "| Agregar al final (`append`)     | `mi_lista.append(60)`    | `[10, 20, 30, 40, 50, 60]` |\n",
    "| Insertar en posición específica | `mi_lista.insert(2, 25)` | `[10, 20, 25, 30, 40, 50]` |\n",
    "| Eliminar elemento por valor     | `mi_lista.remove(30)`    | `[10, 20, 40, 50]`         |\n",
    "| Eliminar por índice (`pop`)     | `mi_lista.pop(1)`        | `[10, 30, 40, 50]`         |\n",
    "| Longitud de la lista            | `len(mi_lista)`          | `5`                        |\n",
    "| Recorrer con for                | `for item in mi_lista:`  | Imprime cada elemento      |\n"
   ]
  },
  {
   "cell_type": "markdown",
   "id": "205f6bb1",
   "metadata": {},
   "source": [
    "🧮 ¿Qué son los arreglos?\n",
    "\n",
    "- Un arreglo es similar a una lista, pero está más enfocado en valores del mismo tipo y es más eficiente en uso de memoria. En Python, los arreglos no son tan comunes como las listas. Para trabajar con arreglos reales se suele usar array de la librería estándar o numpy.array para procesamiento numérico."
   ]
  },
  {
   "cell_type": "code",
   "execution_count": null,
   "id": "14c2e072",
   "metadata": {},
   "outputs": [
    {
     "name": "stdout",
     "output_type": "stream",
     "text": [
      "1\n"
     ]
    }
   ],
   "source": [
    "import array\n",
    "a = array.array('i', [1, 2, 3, 4])  # 'i' indica tipo entero\n",
    "\n",
    "print(a[0])  # Imprime el primer elemento del array\n",
    "\n",
    "\n",
    "# Pero en la mayoría de programas Python modernos, se trabaja directamente con listas, incluso para manipulación de datos complejos, a menos que se necesite alta eficiencia."
   ]
  },
  {
   "cell_type": "markdown",
   "id": "9077d2af",
   "metadata": {},
   "source": [
    "-------------------"
   ]
  },
  {
   "cell_type": "markdown",
   "id": "ccfe92c4",
   "metadata": {},
   "source": [
    "🧪 Ejercicios resueltos con listas"
   ]
  },
  {
   "cell_type": "markdown",
   "id": "3ce84edc",
   "metadata": {},
   "source": [
    "✅ Ejercicio 1: Recorrer una lista e imprimir sus elementos"
   ]
  },
  {
   "cell_type": "code",
   "execution_count": 3,
   "id": "a544d9d8",
   "metadata": {},
   "outputs": [
    {
     "name": "stdout",
     "output_type": "stream",
     "text": [
      "5\n",
      "8\n",
      "2\n",
      "9\n",
      "1\n"
     ]
    }
   ],
   "source": [
    "numeros = [5, 8, 2, 9, 1]\n",
    "for num in numeros:\n",
    "    print(num)\n"
   ]
  },
  {
   "cell_type": "markdown",
   "id": "4dd7ef9c",
   "metadata": {},
   "source": [
    "✅ Ejercicio 2: Calcular la suma de los elementos de una lista"
   ]
  },
  {
   "cell_type": "code",
   "execution_count": 4,
   "id": "b106d1e1",
   "metadata": {},
   "outputs": [
    {
     "name": "stdout",
     "output_type": "stream",
     "text": [
      "Suma total: 25\n"
     ]
    }
   ],
   "source": [
    "numeros = [5, 8, 2, 9, 1]\n",
    "suma = 0\n",
    "for num in numeros:\n",
    "    suma += num\n",
    "print(\"Suma total:\", suma)\n"
   ]
  },
  {
   "cell_type": "markdown",
   "id": "a7c923e9",
   "metadata": {},
   "source": [
    "✅ Ejercicio 3: Encontrar el número mayor en una lista"
   ]
  },
  {
   "cell_type": "code",
   "execution_count": 5,
   "id": "484b68cb",
   "metadata": {},
   "outputs": [
    {
     "name": "stdout",
     "output_type": "stream",
     "text": [
      "El número mayor es: 89\n"
     ]
    }
   ],
   "source": [
    "numeros = [12, 45, 3, 22, 89, 5]\n",
    "mayor = numeros[0]\n",
    "for num in numeros:\n",
    "    if num > mayor:\n",
    "        mayor = num\n",
    "print(\"El número mayor es:\", mayor)\n"
   ]
  },
  {
   "cell_type": "markdown",
   "id": "1d1df797",
   "metadata": {},
   "source": [
    "✅ Ejercicio 4: Contar cuántos números pares hay"
   ]
  },
  {
   "cell_type": "code",
   "execution_count": 6,
   "id": "97152233",
   "metadata": {},
   "outputs": [
    {
     "name": "stdout",
     "output_type": "stream",
     "text": [
      "Cantidad de números pares: 4\n"
     ]
    }
   ],
   "source": [
    "numeros = [4, 7, 10, 3, 2, 9, 8]\n",
    "pares = 0\n",
    "for num in numeros:\n",
    "    if num % 2 == 0:\n",
    "        pares += 1\n",
    "print(\"Cantidad de números pares:\", pares)\n"
   ]
  },
  {
   "cell_type": "markdown",
   "id": "a91d1b92",
   "metadata": {},
   "source": [
    "✅ Ejercicio 5: Generar una lista con cuadrados de los números del 1 al 5"
   ]
  },
  {
   "cell_type": "code",
   "execution_count": 7,
   "id": "baea3936",
   "metadata": {},
   "outputs": [
    {
     "name": "stdout",
     "output_type": "stream",
     "text": [
      "Lista de cuadrados: [1, 4, 9, 16, 25]\n"
     ]
    }
   ],
   "source": [
    "cuadrados = []\n",
    "for i in range(1, 6):\n",
    "    cuadrados.append(i ** 2)\n",
    "print(\"Lista de cuadrados:\", cuadrados)\n"
   ]
  }
 ],
 "metadata": {
  "kernelspec": {
   "display_name": "base",
   "language": "python",
   "name": "python3"
  },
  "language_info": {
   "codemirror_mode": {
    "name": "ipython",
    "version": 3
   },
   "file_extension": ".py",
   "mimetype": "text/x-python",
   "name": "python",
   "nbconvert_exporter": "python",
   "pygments_lexer": "ipython3",
   "version": "3.11.5"
  }
 },
 "nbformat": 4,
 "nbformat_minor": 5
}
