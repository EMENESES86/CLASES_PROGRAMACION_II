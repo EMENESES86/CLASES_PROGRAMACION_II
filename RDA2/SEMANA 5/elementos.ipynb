{
 "cells": [
  {
   "cell_type": "code",
   "execution_count": 40,
   "id": "4d74d6f8",
   "metadata": {},
   "outputs": [
    {
     "name": "stdout",
     "output_type": "stream",
     "text": [
      "[1, 4, 5]\n"
     ]
    }
   ],
   "source": [
    "lista_original = [1, 2, 2, 4, 5]\n",
    "nueva_lista = []\n",
    "for i in lista_original:\n",
    "    \n",
    "    if i != 2:\n",
    "        nueva_lista.append(i)\n",
    "        # lista_original.remove(i)\n",
    "print(nueva_lista)"
   ]
  },
  {
   "cell_type": "code",
   "execution_count": 41,
   "id": "8d0081c9",
   "metadata": {},
   "outputs": [
    {
     "name": "stdout",
     "output_type": "stream",
     "text": [
      "5\n",
      "0\n",
      "1\n",
      "2\n",
      "3\n",
      "4\n",
      "[1, 2, 2, 4, 5]\n"
     ]
    }
   ],
   "source": [
    "print(len(lista_original))\n",
    "for i in range(len(lista_original)):\n",
    "    print(i)\n",
    "    \n",
    "print(lista_original)"
   ]
  },
  {
   "cell_type": "code",
   "execution_count": 42,
   "id": "b96f572e",
   "metadata": {},
   "outputs": [
    {
     "name": "stdout",
     "output_type": "stream",
     "text": [
      "[1, 4, 5]\n"
     ]
    }
   ],
   "source": [
    "lista_original = [1, 2, 2, 4, 5]\n",
    "\n",
    "for i in lista_original:\n",
    "    try:\n",
    "        lista_original.remove(2)\n",
    "    except ValueError:\n",
    "        pass\n",
    "print(nueva_lista)"
   ]
  },
  {
   "cell_type": "code",
   "execution_count": 43,
   "id": "ad419aa6",
   "metadata": {},
   "outputs": [
    {
     "name": "stdout",
     "output_type": "stream",
     "text": [
      "3\n"
     ]
    }
   ],
   "source": [
    "try:\n",
    "    num1=int(input(\"Ingrese un número: \"))\n",
    "    print(num1)\n",
    "except ValueError:\n",
    "    print(\"No es un número válido\")"
   ]
  },
  {
   "cell_type": "code",
   "execution_count": 44,
   "id": "beca48f4",
   "metadata": {},
   "outputs": [],
   "source": [
    "try:\n",
    "    n1=int(input(\"Ingrese un número: \"))\n",
    "    n2=int(input(\"Ingrese otro número: \"))\n",
    "except ValueError:\n",
    "    print(\"No es un número válido\")\n"
   ]
  },
  {
   "cell_type": "code",
   "execution_count": 57,
   "id": "4f41a161",
   "metadata": {},
   "outputs": [
    {
     "name": "stdout",
     "output_type": "stream",
     "text": [
      "[1, 2, 2, 3, 4, 5, 6, 7, 8]\n"
     ]
    }
   ],
   "source": [
    "lista=[2,5,3,4,1,8,6,7,2]\n",
    "for i in range(len(lista)-1):\n",
    "    for j in range(len(lista)-1-i):\n",
    "        if lista[j] > lista[j+1]:\n",
    "            lista[j], lista[j+1] = lista[j+1], lista[j]\n",
    "            # print(lista[j], lista[j+1],end=\" \")\n",
    "            \n",
    "print(lista)"
   ]
  },
  {
   "cell_type": "code",
   "execution_count": 58,
   "id": "9da6c3c9",
   "metadata": {},
   "outputs": [
    {
     "name": "stdout",
     "output_type": "stream",
     "text": [
      "[1, 2, 3, 3, 4, 5, 6, 7, 8]\n"
     ]
    }
   ],
   "source": [
    "lista=[5,3,8,6,2,7,4,1,3]\n",
    "lista.sort()\n",
    "print(lista)"
   ]
  }
 ],
 "metadata": {
  "kernelspec": {
   "display_name": "base",
   "language": "python",
   "name": "python3"
  },
  "language_info": {
   "codemirror_mode": {
    "name": "ipython",
    "version": 3
   },
   "file_extension": ".py",
   "mimetype": "text/x-python",
   "name": "python",
   "nbconvert_exporter": "python",
   "pygments_lexer": "ipython3",
   "version": "3.11.5"
  }
 },
 "nbformat": 4,
 "nbformat_minor": 5
}
