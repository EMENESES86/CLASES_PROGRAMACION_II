{
 "cells": [
  {
   "cell_type": "markdown",
   "id": "f7359280",
   "metadata": {},
   "source": [
    "🎯 OBJETIVOS DE LA CLASE\n",
    "\n",
    "* Comprender el concepto y la utilidad de los algoritmos de búsqueda.\n",
    "* Implementar los algoritmos de búsqueda lineal y binaria.\n",
    "* Analizar la eficiencia de cada algoritmo con ejemplos prácticos."
   ]
  },
  {
   "cell_type": "markdown",
   "id": "5bb3dfcc",
   "metadata": {},
   "source": [
    "🧠 PARTE TEÓRICA\n",
    "1. ¿Qué es un algoritmo de búsqueda?\n",
    "\n",
    "Un algoritmo de búsqueda es un método para encontrar un elemento dentro de una estructura de datos.\n",
    "\n",
    "2. Tipos de búsqueda más comunes:\n",
    "\n",
    "* Búsqueda Lineal (Secuencial): Recorre todos los elementos uno por uno.\n",
    "* Búsqueda Binaria: Divide el arreglo ordenado en mitades para reducir el tiempo de búsqueda.\n",
    "\n",
    "3. Comparación de Eficiencia\n",
    "\n",
    "| Algoritmo        | Eficiencia (Tiempo) | Requiere ordenamiento |\n",
    "| ---------------- | ------------------- | --------------------- |\n",
    "| Búsqueda Lineal  | O(n)                | No                    |\n",
    "| Búsqueda Binaria | O(log n)            | Sí                    |\n"
   ]
  },
  {
   "cell_type": "markdown",
   "id": "4407c877",
   "metadata": {},
   "source": [
    "-------"
   ]
  },
  {
   "cell_type": "markdown",
   "id": "6f28f007",
   "metadata": {},
   "source": [
    "📘 Teoría de Algoritmos de Búsqueda\n",
    "\n",
    "🔎 ¿Qué es un algoritmo de búsqueda?\n",
    "\n",
    "Un algoritmo de búsqueda es un procedimiento que permite encontrar la posición o existencia de un elemento dentro de una estructura de datos, como una lista o un arreglo. Su propósito es determinar si un valor está presente y, si es así, retornar su ubicación.\n",
    "\n",
    "Existen varios tipos de algoritmos de búsqueda, pero los más básicos y fundamentales son:\n",
    "\n",
    "1. Búsqueda Lineal (o Secuencial)\n",
    "2. Búsqueda Binaria"
   ]
  },
  {
   "cell_type": "markdown",
   "id": "1909df88",
   "metadata": {},
   "source": [
    "1. 🔁 Búsqueda Lineal\n",
    "\n",
    "🧠 ¿En qué consiste?\n",
    "\n",
    "La búsqueda lineal recorre uno a uno los elementos de una lista o arreglo desde el inicio hasta el final. En cada paso, compara el elemento actual con el valor que estamos buscando (llamado objetivo o target).\n",
    "\n",
    "✅ Características:\n",
    "\n",
    "* No requiere que los datos estén ordenados.\n",
    "* Sencillo de implementar.\n",
    "* Útil cuando la lista es pequeña o cuando no sabemos si está ordenada.\n",
    "\n",
    "🔢 Ejemplo práctico:\n",
    "\n",
    "Supongamos que queremos encontrar el número 7 en la lista [2, 5, 7, 10]. La búsqueda lineal revisa uno por uno:\n",
    "\n",
    "* Compara 2 → no es.\n",
    "* Compara 5 → no es.\n",
    "* Compara 7 → ¡sí es! Se detiene.\n",
    "\n",
    "🕒 Complejidad:\n",
    "\n",
    "* Peor caso: O(n), cuando el elemento está al final o no está.\n",
    "* Mejor caso: O(1), si está en la primera posición."
   ]
  },
  {
   "cell_type": "markdown",
   "id": "966a777d",
   "metadata": {},
   "source": [
    "🧩 Código ilustrativo en Python:"
   ]
  },
  {
   "cell_type": "code",
   "execution_count": null,
   "id": "bbd525df",
   "metadata": {},
   "outputs": [
    {
     "data": {
      "text/plain": [
       "2"
      ]
     },
     "execution_count": 2,
     "metadata": {},
     "output_type": "execute_result"
    }
   ],
   "source": [
    "def busqueda_lineal(lista, objetivo):\n",
    "    for i in range(len(lista)):\n",
    "        if lista[i] == objetivo:\n",
    "            return i  # Devuelve el índice donde se encontró\n",
    "    return -1  # No encontrado\n",
    "\n",
    "busqueda_lineal([1, 2, 3, 4, 5], 3)  # Devuelve 2"
   ]
  },
  {
   "cell_type": "markdown",
   "id": "6d37033d",
   "metadata": {},
   "source": [
    "✅ Ejemplo 1: Búsqueda Lineal"
   ]
  },
  {
   "cell_type": "code",
   "execution_count": 5,
   "id": "fcb1294b",
   "metadata": {},
   "outputs": [
    {
     "name": "stdout",
     "output_type": "stream",
     "text": [
      "3\n"
     ]
    }
   ],
   "source": [
    "def busqueda_lineal(lista, objetivo):\n",
    "    for i in range(len(lista)):\n",
    "        if lista[i] == objetivo:\n",
    "            return i\n",
    "    return -1\n",
    "\n",
    "datos = [12, 5, 8, 21, 9]\n",
    "print(busqueda_lineal(datos, 21))  # Devuelve 3\n"
   ]
  },
  {
   "cell_type": "markdown",
   "id": "4895bad5",
   "metadata": {},
   "source": [
    "------------"
   ]
  },
  {
   "cell_type": "markdown",
   "id": "d9f2e80b",
   "metadata": {},
   "source": [
    "2. ⚖️ Búsqueda Binaria\n",
    "\n",
    "🧠 ¿En qué consiste?\n",
    "\n",
    "La búsqueda binaria es un algoritmo más eficiente, pero solo funciona si la lista está ordenada. El algoritmo reduce el espacio de búsqueda a la mitad en cada paso.\n",
    "\n",
    "🧭 ¿Cómo funciona?\n",
    "\n",
    "1. Toma el elemento del medio de la lista.\n",
    "2. Si es el que se busca, termina.\n",
    "3. Si el objetivo es menor, repite en la mitad izquierda.\n",
    "4. Si es mayor, repite en la mitad derecha.\n",
    "\n",
    "Este proceso se repite hasta encontrar el objetivo o hasta que el subarreglo se reduzca a cero elementos.\n",
    "\n",
    "🔢 Ejemplo práctico:\n",
    "\n",
    "Buscar el número 19 en [3, 7, 12, 19, 25, 31]:\n",
    "\n",
    "1. Medio: 12 → no es.\n",
    "2. 19 > 12 → buscar en la derecha: [19, 25, 31]\n",
    "3. Medio: 25 → no es.\n",
    "4. 19 < 25 → buscar en la izquierda: [19] → encontrado.\n",
    "\n",
    "🕒 Complejidad:\n",
    "\n",
    "* Peor caso: O(log n), ya que divide el problema a la mitad en cada paso.\n",
    "* Mejor caso: O(1), si el elemento está justo en el medio desde el inicio.\n",
    "\n",
    "⚠️ Requisito:\n",
    "\n",
    "* La lista debe estar ordenada previamente. Si no lo está, la búsqueda binaria no funcionará correctamente."
   ]
  },
  {
   "cell_type": "markdown",
   "id": "cdd2fa7e",
   "metadata": {},
   "source": [
    "🧩 Código ilustrativo en Python:"
   ]
  },
  {
   "cell_type": "code",
   "execution_count": 9,
   "id": "2c8aadeb",
   "metadata": {},
   "outputs": [
    {
     "name": "stdout",
     "output_type": "stream",
     "text": [
      "Elemento encontrado en el índice 2\n"
     ]
    },
    {
     "data": {
      "text/plain": [
       "2"
      ]
     },
     "execution_count": 9,
     "metadata": {},
     "output_type": "execute_result"
    }
   ],
   "source": [
    "def busqueda_binaria(lista, objetivo):\n",
    "    inicio = 0\n",
    "    fin = len(lista) - 1\n",
    "\n",
    "    while inicio <= fin:\n",
    "        medio = (inicio + fin) // 2\n",
    "        if lista[medio] == objetivo:\n",
    "            print(f\"Elemento encontrado en el índice {medio}\")\n",
    "            return medio\n",
    "        elif lista[medio] < objetivo:\n",
    "            inicio = medio + 1\n",
    "        else:\n",
    "            fin = medio - 1\n",
    "    return -1\n",
    "\n",
    "busqueda_binaria([1, 2, 3, 4, 5], 3)  # Devuelve 2"
   ]
  },
  {
   "cell_type": "markdown",
   "id": "5f800ae4",
   "metadata": {},
   "source": [
    "✅ Ejemplo 2: Búsqueda Binaria"
   ]
  },
  {
   "cell_type": "code",
   "execution_count": 7,
   "id": "4b06fe12",
   "metadata": {},
   "outputs": [
    {
     "name": "stdout",
     "output_type": "stream",
     "text": [
      "3\n"
     ]
    }
   ],
   "source": [
    "def busqueda_binaria(lista, objetivo):\n",
    "    inicio = 0\n",
    "    fin = len(lista) - 1\n",
    "\n",
    "    while inicio <= fin:\n",
    "        medio = (inicio + fin) // 2\n",
    "        if lista[medio] == objetivo:\n",
    "            return medio\n",
    "        elif lista[medio] < objetivo:\n",
    "            inicio = medio + 1\n",
    "        else:\n",
    "            fin = medio - 1\n",
    "    return -1\n",
    "\n",
    "datos_ordenados = [3, 7, 12, 19, 25, 31]\n",
    "print(busqueda_binaria(datos_ordenados, 19))  # Devuelve 3\n"
   ]
  },
  {
   "cell_type": "markdown",
   "id": "8e869171",
   "metadata": {},
   "source": [
    "🧠 Comparación final:\n",
    "\n",
    "| Criterio               | Búsqueda Lineal                | Búsqueda Binaria           |\n",
    "| ---------------------- | ------------------------------ | -------------------------- |\n",
    "| ¿Lista ordenada?       | No necesaria                   | Requiere lista ordenada    |\n",
    "| Eficiencia (peor caso) | O(n)                           | O(log n)                   |\n",
    "| Implementación         | Muy simple                     | Un poco más compleja       |\n",
    "| Uso recomendado        | Listas pequeñas o desordenadas | Listas grandes y ordenadas |\n"
   ]
  }
 ],
 "metadata": {
  "kernelspec": {
   "display_name": "base",
   "language": "python",
   "name": "python3"
  },
  "language_info": {
   "codemirror_mode": {
    "name": "ipython",
    "version": 3
   },
   "file_extension": ".py",
   "mimetype": "text/x-python",
   "name": "python",
   "nbconvert_exporter": "python",
   "pygments_lexer": "ipython3",
   "version": "3.11.5"
  }
 },
 "nbformat": 4,
 "nbformat_minor": 5
}
