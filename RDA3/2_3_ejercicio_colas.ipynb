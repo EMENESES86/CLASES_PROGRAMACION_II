{
 "cells": [
  {
   "cell_type": "markdown",
   "metadata": {},
   "source": [
    "# Ejercicio práctico: Colas en Python (comentado paso a paso)"
   ]
  },
  {
   "cell_type": "markdown",
   "metadata": {},
   "source": [
    "En este ejercicio vamos a implementar una cola simple usando la clase `deque` de Python.\n",
    "\n",
    "Simularemos un sistema de atención al cliente donde las personas llegan y son atendidas en orden."
   ]
  },
  {
   "cell_type": "code",
   "execution_count": 1,
   "metadata": {},
   "outputs": [],
   "source": [
    "# Importamos deque desde collections porque es más eficiente que las listas para manejar colas\n",
    "from collections import deque"
   ]
  },
  {
   "cell_type": "markdown",
   "id": "9e4fee50",
   "metadata": {},
   "source": [
    "deque (abreviatura de double-ended queue, o \"cola de dos extremos\") es una estructura de datos que viene incluida en el módulo estándar de Python:\n",
    "\n",
    "\n",
    "Básicamente es una cola optimizada que permite:\n",
    "\n",
    "- Agregar elementos por ambos extremos (izquierda y derecha)\n",
    "- Eliminar elementos por ambos extremos de forma rápida (O(1))\n",
    "\n",
    "A diferencia de las listas (list), que son muy rápidas para agregar o quitar elementos al final (append / pop al final), pero son lentas cuando quitamos elementos del inicio (pop(0)), deque está diseñado para ser eficiente en ambos extremos.\n",
    "\n",
    "### Básicamente es una cola optimizada que permite:\n",
    "\n",
    "- Agregar elementos por ambos extremos (izquierda y derecha)\n",
    "- Eliminar elementos por ambos extremos de forma rápida (O(1))\n",
    "\n",
    "A diferencia de las listas (list), que son muy rápidas para agregar o quitar elementos al final (append / pop al final), pero son lentas cuando quitamos elementos del inicio (pop(0)), deque está diseñado para ser eficiente en ambos extremos."
   ]
  },
  {
   "cell_type": "code",
   "execution_count": 2,
   "metadata": {},
   "outputs": [],
   "source": [
    "# Definimos la clase Cola, totalmente comentada\n",
    "class Cola:\n",
    "    def __init__(self):\n",
    "        # Creamos una cola vacía usando deque\n",
    "        self.items = deque()\n",
    "    \n",
    "    def encolar(self, item):\n",
    "        # Agrega un nuevo elemento al final de la cola\n",
    "        self.items.append(item)\n",
    "        print(f\"Se agregó: {item}\")\n",
    "        \n",
    "    def desencolar(self):\n",
    "        # Elimina el elemento del frente si no está vacía\n",
    "        if not self.esta_vacia():\n",
    "            elemento = self.items.popleft()\n",
    "            print(f\"Se atendió: {elemento}\")\n",
    "            return elemento\n",
    "        else:\n",
    "            print(\"La cola está vacía\")\n",
    "            return None\n",
    "        \n",
    "    def esta_vacia(self):\n",
    "        # Retorna True si la cola está vacía\n",
    "        return len(self.items) == 0\n",
    "\n",
    "    def tamaño(self):\n",
    "        # Retorna el tamaño actual de la cola\n",
    "        return len(self.items)\n",
    "\n",
    "    def ver_primero(self):\n",
    "        # Devuelve el primer elemento sin eliminarlo\n",
    "        if not self.esta_vacia():\n",
    "            return self.items[0]\n",
    "        else:\n",
    "            return None"
   ]
  },
  {
   "cell_type": "markdown",
   "metadata": {},
   "source": [
    "### Ahora vamos a simular la llegada de clientes y su atención en orden."
   ]
  },
  {
   "cell_type": "code",
   "execution_count": 3,
   "metadata": {},
   "outputs": [],
   "source": [
    "# Creamos una instancia de la cola\n",
    "cola_clientes = Cola()"
   ]
  },
  {
   "cell_type": "code",
   "execution_count": 4,
   "metadata": {},
   "outputs": [
    {
     "name": "stdout",
     "output_type": "stream",
     "text": [
      "Se agregó: Ana\n",
      "Se agregó: Luis\n",
      "Se agregó: Pedro\n",
      "Se agregó: María\n",
      "Se agregó: José\n",
      "Total de clientes en espera: 5\n"
     ]
    }
   ],
   "source": [
    "# Simulamos que llegan clientes\n",
    "clientes = [\"Ana\", \"Luis\", \"Pedro\", \"María\", \"José\"]\n",
    "\n",
    "for cliente in clientes:\n",
    "    cola_clientes.encolar(cliente)\n",
    "\n",
    "print(f\"Total de clientes en espera: {cola_clientes.tamaño()}\")"
   ]
  },
  {
   "cell_type": "code",
   "execution_count": 5,
   "metadata": {},
   "outputs": [
    {
     "name": "stdout",
     "output_type": "stream",
     "text": [
      "Atendiendo a: Ana\n",
      "Se atendió: Ana\n",
      "Clientes restantes: 4\n",
      "Atendiendo a: Luis\n",
      "Se atendió: Luis\n",
      "Clientes restantes: 3\n",
      "Atendiendo a: Pedro\n",
      "Se atendió: Pedro\n",
      "Clientes restantes: 2\n",
      "Atendiendo a: María\n",
      "Se atendió: María\n",
      "Clientes restantes: 1\n",
      "Atendiendo a: José\n",
      "Se atendió: José\n",
      "Clientes restantes: 0\n"
     ]
    }
   ],
   "source": [
    "# Ahora atendemos a los clientes uno por uno\n",
    "while not cola_clientes.esta_vacia():\n",
    "    actual = cola_clientes.ver_primero()  # Vemos quién es el siguiente\n",
    "    print(f\"Atendiendo a: {actual}\")\n",
    "    cola_clientes.desencolar()\n",
    "    print(f\"Clientes restantes: {cola_clientes.tamaño()}\")\n"
   ]
  },
  {
   "cell_type": "markdown",
   "metadata": {},
   "source": [
    "## Fin del ejercicio\n",
    "\n",
    "Como pudiste observar, la estructura de cola permite atender a los clientes en el mismo orden en que llegaron (FIFO)."
   ]
  }
 ],
 "metadata": {
  "kernelspec": {
   "display_name": "base",
   "language": "python",
   "name": "python3"
  },
  "language_info": {
   "codemirror_mode": {
    "name": "ipython",
    "version": 3
   },
   "file_extension": ".py",
   "mimetype": "text/x-python",
   "name": "python",
   "nbconvert_exporter": "python",
   "pygments_lexer": "ipython3",
   "version": "3.11.5"
  }
 },
 "nbformat": 4,
 "nbformat_minor": 5
}
